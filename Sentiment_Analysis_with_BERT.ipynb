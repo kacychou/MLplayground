{
  "nbformat": 4,
  "nbformat_minor": 0,
  "metadata": {
    "colab": {
      "name": "Sentiment Analysis with BERT.ipynb",
      "provenance": [],
      "collapsed_sections": [],
      "authorship_tag": "ABX9TyNm90nyN5UPh8POcKMOuPdv",
      "include_colab_link": true
    },
    "kernelspec": {
      "name": "python3",
      "display_name": "Python 3"
    },
    "language_info": {
      "name": "python"
    },
    "accelerator": "GPU"
  },
  "cells": [
    {
      "cell_type": "markdown",
      "metadata": {
        "id": "view-in-github",
        "colab_type": "text"
      },
      "source": [
        "<a href=\"https://colab.research.google.com/github/kacychou/MLplayground/blob/main/Sentiment_Analysis_with_BERT.ipynb\" target=\"_parent\"><img src=\"https://colab.research.google.com/assets/colab-badge.svg\" alt=\"Open In Colab\"/></a>"
      ]
    },
    {
      "cell_type": "code",
      "execution_count": 1,
      "metadata": {
        "colab": {
          "base_uri": "https://localhost:8080/"
        },
        "id": "kE_4X1P28hmV",
        "outputId": "890f6fe7-2a5e-4f31-a926-6bd876b3345d"
      },
      "outputs": [
        {
          "output_type": "stream",
          "name": "stdout",
          "text": [
            "Looking in links: https://download.pytorch.org/whl/torch_stable.html\n",
            "Collecting torch==1.8.1+cu111\n",
            "  Downloading https://download.pytorch.org/whl/cu111/torch-1.8.1%2Bcu111-cp37-cp37m-linux_x86_64.whl (1982.2 MB)\n",
            "\u001b[K     |█████████████▌                  | 834.1 MB 1.4 MB/s eta 0:13:14tcmalloc: large alloc 1147494400 bytes == 0x557ca631e000 @  0x7fe244060615 0x557c6bcfb3bc 0x557c6bddc18a 0x557c6bcfe1cd 0x557c6bdf0b3d 0x557c6bd72458 0x557c6bd6d02f 0x557c6bcffaba 0x557c6bd722c0 0x557c6bd6d02f 0x557c6bcffaba 0x557c6bd6ecd4 0x557c6bdf1986 0x557c6bd6e350 0x557c6bdf1986 0x557c6bd6e350 0x557c6bdf1986 0x557c6bd6e350 0x557c6bcfff19 0x557c6bd43a79 0x557c6bcfeb32 0x557c6bd721dd 0x557c6bd6d02f 0x557c6bcffaba 0x557c6bd6ecd4 0x557c6bd6d02f 0x557c6bcffaba 0x557c6bd6deae 0x557c6bcff9da 0x557c6bd6e108 0x557c6bd6d02f\n",
            "\u001b[K     |█████████████████               | 1055.7 MB 1.1 MB/s eta 0:13:34tcmalloc: large alloc 1434370048 bytes == 0x557cea974000 @  0x7fe244060615 0x557c6bcfb3bc 0x557c6bddc18a 0x557c6bcfe1cd 0x557c6bdf0b3d 0x557c6bd72458 0x557c6bd6d02f 0x557c6bcffaba 0x557c6bd722c0 0x557c6bd6d02f 0x557c6bcffaba 0x557c6bd6ecd4 0x557c6bdf1986 0x557c6bd6e350 0x557c6bdf1986 0x557c6bd6e350 0x557c6bdf1986 0x557c6bd6e350 0x557c6bcfff19 0x557c6bd43a79 0x557c6bcfeb32 0x557c6bd721dd 0x557c6bd6d02f 0x557c6bcffaba 0x557c6bd6ecd4 0x557c6bd6d02f 0x557c6bcffaba 0x557c6bd6deae 0x557c6bcff9da 0x557c6bd6e108 0x557c6bd6d02f\n",
            "\u001b[K     |█████████████████████▋          | 1336.2 MB 1.4 MB/s eta 0:07:33tcmalloc: large alloc 1792966656 bytes == 0x557c6f7a6000 @  0x7fe244060615 0x557c6bcfb3bc 0x557c6bddc18a 0x557c6bcfe1cd 0x557c6bdf0b3d 0x557c6bd72458 0x557c6bd6d02f 0x557c6bcffaba 0x557c6bd722c0 0x557c6bd6d02f 0x557c6bcffaba 0x557c6bd6ecd4 0x557c6bdf1986 0x557c6bd6e350 0x557c6bdf1986 0x557c6bd6e350 0x557c6bdf1986 0x557c6bd6e350 0x557c6bcfff19 0x557c6bd43a79 0x557c6bcfeb32 0x557c6bd721dd 0x557c6bd6d02f 0x557c6bcffaba 0x557c6bd6ecd4 0x557c6bd6d02f 0x557c6bcffaba 0x557c6bd6deae 0x557c6bcff9da 0x557c6bd6e108 0x557c6bd6d02f\n",
            "\u001b[K     |███████████████████████████▎    | 1691.1 MB 1.2 MB/s eta 0:03:54tcmalloc: large alloc 2241208320 bytes == 0x557cda58e000 @  0x7fe244060615 0x557c6bcfb3bc 0x557c6bddc18a 0x557c6bcfe1cd 0x557c6bdf0b3d 0x557c6bd72458 0x557c6bd6d02f 0x557c6bcffaba 0x557c6bd722c0 0x557c6bd6d02f 0x557c6bcffaba 0x557c6bd6ecd4 0x557c6bdf1986 0x557c6bd6e350 0x557c6bdf1986 0x557c6bd6e350 0x557c6bdf1986 0x557c6bd6e350 0x557c6bcfff19 0x557c6bd43a79 0x557c6bcfeb32 0x557c6bd721dd 0x557c6bd6d02f 0x557c6bcffaba 0x557c6bd6ecd4 0x557c6bd6d02f 0x557c6bcffaba 0x557c6bd6deae 0x557c6bcff9da 0x557c6bd6e108 0x557c6bd6d02f\n",
            "\u001b[K     |████████████████████████████████| 1982.2 MB 1.2 MB/s eta 0:00:01tcmalloc: large alloc 1982177280 bytes == 0x557d5fef0000 @  0x7fe24405f1e7 0x557c6bd315d7 0x557c6bcfb3bc 0x557c6bddc18a 0x557c6bcfe1cd 0x557c6bdf0b3d 0x557c6bd72458 0x557c6bd6d02f 0x557c6bcffaba 0x557c6bd6e108 0x557c6bd6d02f 0x557c6bcffaba 0x557c6bd6e108 0x557c6bd6d02f 0x557c6bcffaba 0x557c6bd6e108 0x557c6bd6d02f 0x557c6bcffaba 0x557c6bd6e108 0x557c6bd6d02f 0x557c6bcffaba 0x557c6bd6e108 0x557c6bcff9da 0x557c6bd6e108 0x557c6bd6d02f 0x557c6bcffaba 0x557c6bd6ecd4 0x557c6bd6d02f 0x557c6bcffaba 0x557c6bd6ecd4 0x557c6bd6d02f\n",
            "tcmalloc: large alloc 2477727744 bytes == 0x557e4a5ce000 @  0x7fe244060615 0x557c6bcfb3bc 0x557c6bddc18a 0x557c6bcfe1cd 0x557c6bdf0b3d 0x557c6bd72458 0x557c6bd6d02f 0x557c6bcffaba 0x557c6bd6e108 0x557c6bd6d02f 0x557c6bcffaba 0x557c6bd6e108 0x557c6bd6d02f 0x557c6bcffaba 0x557c6bd6e108 0x557c6bd6d02f 0x557c6bcffaba 0x557c6bd6e108 0x557c6bd6d02f 0x557c6bcffaba 0x557c6bd6e108 0x557c6bcff9da 0x557c6bd6e108 0x557c6bd6d02f 0x557c6bcffaba 0x557c6bd6ecd4 0x557c6bd6d02f 0x557c6bcffaba 0x557c6bd6ecd4 0x557c6bd6d02f 0x557c6bd00151\n",
            "\u001b[K     |████████████████████████████████| 1982.2 MB 2.7 kB/s \n",
            "\u001b[?25hCollecting torchvision==0.9.1+cu111\n",
            "  Downloading https://download.pytorch.org/whl/cu111/torchvision-0.9.1%2Bcu111-cp37-cp37m-linux_x86_64.whl (17.6 MB)\n",
            "\u001b[K     |████████████████████████████████| 17.6 MB 235 kB/s \n",
            "\u001b[?25hCollecting torchaudio===0.8.1\n",
            "  Downloading torchaudio-0.8.1-cp37-cp37m-manylinux1_x86_64.whl (1.9 MB)\n",
            "\u001b[K     |████████████████████████████████| 1.9 MB 5.2 MB/s \n",
            "\u001b[?25hRequirement already satisfied: numpy in /usr/local/lib/python3.7/dist-packages (from torch==1.8.1+cu111) (1.21.5)\n",
            "Requirement already satisfied: typing-extensions in /usr/local/lib/python3.7/dist-packages (from torch==1.8.1+cu111) (3.10.0.2)\n",
            "Requirement already satisfied: pillow>=4.1.1 in /usr/local/lib/python3.7/dist-packages (from torchvision==0.9.1+cu111) (7.1.2)\n",
            "Installing collected packages: torch, torchvision, torchaudio\n",
            "  Attempting uninstall: torch\n",
            "    Found existing installation: torch 1.10.0+cu111\n",
            "    Uninstalling torch-1.10.0+cu111:\n",
            "      Successfully uninstalled torch-1.10.0+cu111\n",
            "  Attempting uninstall: torchvision\n",
            "    Found existing installation: torchvision 0.11.1+cu111\n",
            "    Uninstalling torchvision-0.11.1+cu111:\n",
            "      Successfully uninstalled torchvision-0.11.1+cu111\n",
            "  Attempting uninstall: torchaudio\n",
            "    Found existing installation: torchaudio 0.10.0+cu111\n",
            "    Uninstalling torchaudio-0.10.0+cu111:\n",
            "      Successfully uninstalled torchaudio-0.10.0+cu111\n",
            "\u001b[31mERROR: pip's dependency resolver does not currently take into account all the packages that are installed. This behaviour is the source of the following dependency conflicts.\n",
            "torchtext 0.11.0 requires torch==1.10.0, but you have torch 1.8.1+cu111 which is incompatible.\u001b[0m\n",
            "Successfully installed torch-1.8.1+cu111 torchaudio-0.8.1 torchvision-0.9.1+cu111\n"
          ]
        }
      ],
      "source": [
        "!pip install torch==1.8.1+cu111 torchvision==0.9.1+cu111 torchaudio===0.8.1 -f https://download.pytorch.org/whl/torch_stable.html\n"
      ]
    },
    {
      "cell_type": "code",
      "source": [
        "!pip install transformers requests beautifulsoup4 pandas numpy\n"
      ],
      "metadata": {
        "colab": {
          "base_uri": "https://localhost:8080/"
        },
        "id": "DmctdZ9c8ywY",
        "outputId": "b501039c-d364-4579-9b79-ade29124fd80"
      },
      "execution_count": 3,
      "outputs": [
        {
          "output_type": "stream",
          "name": "stdout",
          "text": [
            "Collecting transformers\n",
            "  Downloading transformers-4.16.2-py3-none-any.whl (3.5 MB)\n",
            "\u001b[K     |████████████████████████████████| 3.5 MB 5.2 MB/s \n",
            "\u001b[?25hRequirement already satisfied: requests in /usr/local/lib/python3.7/dist-packages (2.23.0)\n",
            "Requirement already satisfied: beautifulsoup4 in /usr/local/lib/python3.7/dist-packages (4.6.3)\n",
            "Requirement already satisfied: pandas in /usr/local/lib/python3.7/dist-packages (1.3.5)\n",
            "Requirement already satisfied: numpy in /usr/local/lib/python3.7/dist-packages (1.21.5)\n",
            "Requirement already satisfied: regex!=2019.12.17 in /usr/local/lib/python3.7/dist-packages (from transformers) (2019.12.20)\n",
            "Collecting huggingface-hub<1.0,>=0.1.0\n",
            "  Downloading huggingface_hub-0.4.0-py3-none-any.whl (67 kB)\n",
            "\u001b[K     |████████████████████████████████| 67 kB 5.1 MB/s \n",
            "\u001b[?25hRequirement already satisfied: filelock in /usr/local/lib/python3.7/dist-packages (from transformers) (3.4.2)\n",
            "Collecting tokenizers!=0.11.3,>=0.10.1\n",
            "  Downloading tokenizers-0.11.5-cp37-cp37m-manylinux_2_12_x86_64.manylinux2010_x86_64.whl (6.8 MB)\n",
            "\u001b[K     |████████████████████████████████| 6.8 MB 32.4 MB/s \n",
            "\u001b[?25hRequirement already satisfied: packaging>=20.0 in /usr/local/lib/python3.7/dist-packages (from transformers) (21.3)\n",
            "Collecting pyyaml>=5.1\n",
            "  Downloading PyYAML-6.0-cp37-cp37m-manylinux_2_5_x86_64.manylinux1_x86_64.manylinux_2_12_x86_64.manylinux2010_x86_64.whl (596 kB)\n",
            "\u001b[K     |████████████████████████████████| 596 kB 41.5 MB/s \n",
            "\u001b[?25hRequirement already satisfied: tqdm>=4.27 in /usr/local/lib/python3.7/dist-packages (from transformers) (4.62.3)\n",
            "Requirement already satisfied: importlib-metadata in /usr/local/lib/python3.7/dist-packages (from transformers) (4.11.0)\n",
            "Collecting sacremoses\n",
            "  Downloading sacremoses-0.0.47-py2.py3-none-any.whl (895 kB)\n",
            "\u001b[K     |████████████████████████████████| 895 kB 42.9 MB/s \n",
            "\u001b[?25hRequirement already satisfied: typing-extensions>=3.7.4.3 in /usr/local/lib/python3.7/dist-packages (from huggingface-hub<1.0,>=0.1.0->transformers) (3.10.0.2)\n",
            "Requirement already satisfied: pyparsing!=3.0.5,>=2.0.2 in /usr/local/lib/python3.7/dist-packages (from packaging>=20.0->transformers) (3.0.7)\n",
            "Requirement already satisfied: certifi>=2017.4.17 in /usr/local/lib/python3.7/dist-packages (from requests) (2021.10.8)\n",
            "Requirement already satisfied: chardet<4,>=3.0.2 in /usr/local/lib/python3.7/dist-packages (from requests) (3.0.4)\n",
            "Requirement already satisfied: urllib3!=1.25.0,!=1.25.1,<1.26,>=1.21.1 in /usr/local/lib/python3.7/dist-packages (from requests) (1.24.3)\n",
            "Requirement already satisfied: idna<3,>=2.5 in /usr/local/lib/python3.7/dist-packages (from requests) (2.10)\n",
            "Requirement already satisfied: pytz>=2017.3 in /usr/local/lib/python3.7/dist-packages (from pandas) (2018.9)\n",
            "Requirement already satisfied: python-dateutil>=2.7.3 in /usr/local/lib/python3.7/dist-packages (from pandas) (2.8.2)\n",
            "Requirement already satisfied: six>=1.5 in /usr/local/lib/python3.7/dist-packages (from python-dateutil>=2.7.3->pandas) (1.15.0)\n",
            "Requirement already satisfied: zipp>=0.5 in /usr/local/lib/python3.7/dist-packages (from importlib-metadata->transformers) (3.7.0)\n",
            "Requirement already satisfied: joblib in /usr/local/lib/python3.7/dist-packages (from sacremoses->transformers) (1.1.0)\n",
            "Requirement already satisfied: click in /usr/local/lib/python3.7/dist-packages (from sacremoses->transformers) (7.1.2)\n",
            "Installing collected packages: pyyaml, tokenizers, sacremoses, huggingface-hub, transformers\n",
            "  Attempting uninstall: pyyaml\n",
            "    Found existing installation: PyYAML 3.13\n",
            "    Uninstalling PyYAML-3.13:\n",
            "      Successfully uninstalled PyYAML-3.13\n",
            "Successfully installed huggingface-hub-0.4.0 pyyaml-6.0 sacremoses-0.0.47 tokenizers-0.11.5 transformers-4.16.2\n"
          ]
        }
      ]
    },
    {
      "cell_type": "code",
      "source": [
        "#Step 0\n",
        "from transformers import AutoTokenizer, AutoModelForSequenceClassification\n",
        "import torch \n",
        "import requests\n",
        "from bs4 import BeautifulSoup\n",
        "import re\n",
        "import pandas as pd\n",
        "import numpy as np"
      ],
      "metadata": {
        "id": "kV4q_1ZD85og"
      },
      "execution_count": 43,
      "outputs": []
    },
    {
      "cell_type": "code",
      "source": [
        "#Step 1 Instantiate model\n",
        "tokenizer = AutoTokenizer.from_pretrained('nlptown/bert-base-multilingual-uncased-sentiment')\n",
        "model = AutoModelForSequenceClassification.from_pretrained('nlptown/bert-base-multilingual-uncased-sentiment')\n",
        "#from_pretrained method loads in the model"
      ],
      "metadata": {
        "id": "57byfeII-P22"
      },
      "execution_count": 9,
      "outputs": []
    },
    {
      "cell_type": "code",
      "source": [
        "#Step 2 Encode and calculate sentiment\n",
        "tokens = tokenizer.encode('I hate this, absolutely the worst', return_tensors ='pt')\n",
        "#return_tensors = pytorch"
      ],
      "metadata": {
        "id": "bE7LinDW-wBv"
      },
      "execution_count": 11,
      "outputs": []
    },
    {
      "cell_type": "code",
      "source": [
        "#pass it the model\n",
        "result = model(tokens)"
      ],
      "metadata": {
        "id": "1aRrXBd0_Uzh"
      },
      "execution_count": 13,
      "outputs": []
    },
    {
      "cell_type": "code",
      "source": [
        "result\n",
        "#result returns a one-hot encoded list of scores\n",
        "#The position with the highest score represents the sentiment rating\n",
        "#In this case position 0 = rating of 1"
      ],
      "metadata": {
        "colab": {
          "base_uri": "https://localhost:8080/"
        },
        "id": "lkgx__C2AFa4",
        "outputId": "b727167f-1025-4f65-82df-e60b52d88184"
      },
      "execution_count": 14,
      "outputs": [
        {
          "output_type": "execute_result",
          "data": {
            "text/plain": [
              "SequenceClassifierOutput([('logits',\n",
              "                           tensor([[ 5.0607,  1.6029, -1.0123, -3.0154, -1.8469]],\n",
              "                                  grad_fn=<AddmmBackward0>))])"
            ]
          },
          "metadata": {},
          "execution_count": 14
        }
      ]
    },
    {
      "cell_type": "code",
      "source": [
        "torch.argmax(result.logits)"
      ],
      "metadata": {
        "colab": {
          "base_uri": "https://localhost:8080/"
        },
        "id": "fR0ADDlBAIEn",
        "outputId": "0c68372e-c544-4065-8167-a7ef2785c273"
      },
      "execution_count": 15,
      "outputs": [
        {
          "output_type": "execute_result",
          "data": {
            "text/plain": [
              "tensor(0)"
            ]
          },
          "metadata": {},
          "execution_count": 15
        }
      ]
    },
    {
      "cell_type": "code",
      "source": [
        "int(torch.argmax(result.logits))+1"
      ],
      "metadata": {
        "colab": {
          "base_uri": "https://localhost:8080/"
        },
        "id": "qukeLZ7IBc51",
        "outputId": "d9fab322-c101-46b3-92eb-04ca3b618a79"
      },
      "execution_count": 17,
      "outputs": [
        {
          "output_type": "execute_result",
          "data": {
            "text/plain": [
              "1"
            ]
          },
          "metadata": {},
          "execution_count": 17
        }
      ]
    },
    {
      "cell_type": "code",
      "source": [
        "#Step 2b Encode and calculate sentiment - happy review\n",
        "tokens = tokenizer.encode('I love this, absolutely the best', return_tensors ='pt')\n",
        "result = model(tokens)\n",
        "int(torch.argmax(result.logits))+1"
      ],
      "metadata": {
        "colab": {
          "base_uri": "https://localhost:8080/"
        },
        "id": "874Xhf-hBjvk",
        "outputId": "540da422-d567-410c-ae1e-3336b158bdd9"
      },
      "execution_count": 22,
      "outputs": [
        {
          "output_type": "execute_result",
          "data": {
            "text/plain": [
              "5"
            ]
          },
          "metadata": {},
          "execution_count": 22
        }
      ]
    },
    {
      "cell_type": "code",
      "source": [
        "#Step 3 - Collect reviews"
      ],
      "metadata": {
        "id": "J2lwIfGBBk7c"
      },
      "execution_count": null,
      "outputs": []
    },
    {
      "cell_type": "code",
      "source": [
        "#using regex to extract the classes of reviews on yelp\n",
        "r=requests.get('https://www.yelp.com/biz/%E6%BE%B3%E6%B4%B2%E7%89%9B%E5%A5%B6%E5%85%AC%E5%8F%B8-%E9%A6%99%E6%B8%AF-2')\n",
        "soup = BeautifulSoup(r.text,'html.parser')\n",
        "regex = re.compile('.*comment.*') #parse regex to soup\n",
        "results=soup.find_all('p',{'class':regex}) #find all that is wrapped by a p tag and has a class of \"comments\" - find class that matches regex"
      ],
      "metadata": {
        "id": "797mhFkaCEU2"
      },
      "execution_count": 36,
      "outputs": []
    },
    {
      "cell_type": "code",
      "source": [
        "reviews = [ result.text for result in results] #extract results using a list comprehension\n"
      ],
      "metadata": {
        "id": "1Lwj2GH7DHyd"
      },
      "execution_count": 41,
      "outputs": []
    },
    {
      "cell_type": "code",
      "source": [
        "reviews "
      ],
      "metadata": {
        "colab": {
          "base_uri": "https://localhost:8080/"
        },
        "id": "Dz9VGGhPC5_m",
        "outputId": "6696b1b8-025c-41c4-a2e4-c87917c7ab83"
      },
      "execution_count": 42,
      "outputs": [
        {
          "output_type": "execute_result",
          "data": {
            "text/plain": [
              "['Amazing local food and very quick service!Probably the best breakfast deal for good food in town',\n",
              " \"On food alone, this place is great. Having been here for many years, they really know what they are doing when it comes to food. I would personally recommend the egg sandwiches, since that's what they are really known for. However, a lot of people also like coming here for the boiled milk, among many other items. Overall, I don't think you can go wrong here for any menu item.The big problem here is the service. I wouldn't say it's that bad, in the sense that you know what you are getting when you come here: curt responses and an expectation that you will not wiffle waffle when it comes to placing your order. They are in a hurry here and rely on turnover to make money. So, prepare for that.The other issue is that this place is constantly closed. Due to COVID paranoia this place frequently just shuts down for days on end for no seeming reason. The alleged reason is to 'protect staff', but from a consumer standpoint this is super inconvenient.\",\n",
              " \"This is a long overdue review when I visited back in Oct '19. All of my friends who have visited Hong Kong recommended me this place and I really did not understood the hype until I tried it myself. I came with my family, a party of 4, and got seated after waiting in line for about 10 minutes, which is fairly quick. I ordered the breakfast set that comes with two pieces of buttered french toast, eggs (I ordered mine scrambled), macaroni soup and an iced milk tea. We also ordered a cold milk custard to share.The macaroni soup with ham was just okay. It was a simple noodle soup dish I grew up eating during my childhood so I did not expect anything more of it. The toast and eggs was what everyone raved for and I was pretty impressed! The eggs were buttery and fluffy and topped on top of my buttery toast gave me a mouth orgasm. I also came back by myself a second time when I came back from Singapore.\",\n",
              " \"Please don't be alarmed if you're rushed to order, rushed to eat, rushed to pay and even if it appears the staff is shouting at everyone. That's the spirit here. One of the best HK style breakfast cafes you can visit while in HK, they serve up practically anything you can think of for your traditional HK breakfast from HK milk tea to scramble egg sandwiches, pineapple buns and everyone's favorite, macaroni soup. Menu is limited in English, best if you come with someone who can speak some Cantonese or just show photos from your phone through handy-dandy Yelp or OpenRice =)The pace is very fast, you'll always see a line but it moves extremely quick because when in Hong Kong, communal style tables is key. You will more than likely share a table with strangers unless you have a huge party, but it's okay because you're here for the food anyhow. Expect super efficiency and a quick meal. This is not a place to take your time. Expect great food, not great service.\",\n",
              " \"This is a very busy restaurant that you'd honestly expect for a quick meal and then go, and also expect to be sharing tables with other people as well. We came around mid 3pm on a weekday, and even then, the restaurant is consistently very busy. They are most famous for the egg sandwiches and the milk puddings. Make sure to ask for an English menu if you can't Chinese as you come in.The server will usually expect you to know what you want right away as most people just come in to tell the server what they want.Their menu offers a few selection of food, but mostly differently sandwiches and their milk pudding options. Food comes very fast, and you won't regret ordering. The egg sandwich was amazingly good; the egg was scrambled but had that runny texture, plus it was very creamy. The original milk pudding (best hot), was so soft and you can really taste the milk behind it. Was super full after having both dishes haha.A lot of people complain about the service, however the server was quite nice to me. After eating, you tell your server you want the bill and pay at the front. Definitely worth visiting at least once!\",\n",
              " \"This is undeniably the absolute BEST eggs I have ever had. It is next level soft, creamy, rich, and decadent! I had no idea you can make eggs this delicious. The atmosphere itself is also an experience. It's a no BS allowed kind of restaurant that prizes efficiency. This is probably necessary as the lines are insanely long, even at 8AM!\",\n",
              " 'I came here because of the hype if I\\'m being honest, but it was also a spot that screamed \"A MUST GO IN HONG\"....so of course being a typical tourist, I had to try it out.It\\'s pretty fast pace and there\\'s no room for hesitation. There is limited English on the menu, so the easiest for me to order was to show the waiter what I wanted! I got:MACARONI AND HAM SOUP- This is their most popular item on the menu. It\\'s really nothing that screams wow, but it\\'s a great dish if you want something soupy and warm. It\\'s also a good palette cleanser for the other dishes. One of my favorites was the HK STYLE FRENCH TOAST- Love the subtle peanut butter in the middle (that\\'s what makes it HK style). I knew I had to get an egg dish as well, so I got the SCRAMBLED EGGS WITH CORNED BEEF SANDWICH- The corned beef balanced so well with the eggs, which were super fluffy btw. I would gladly order all these three together when I visit again!You cannot go to a cafe in Hong Kong without ordering MILK TEA, so make sure to do that + come prepared knowing what to order so you don\\'t encounter any \"rudeness\" from the waiters! I left with no complaints!',\n",
              " 'Came here on a Sunday morning and waited around 5 mins. Has the usual breakfast with ham macaroni and scrambled eggs with toast. I even had room for steamed milk. It usually has long queue from mainlanders but less due to current situation in HK.Glad I came and got my steamed milk fix!!I had to share the table with other strangers but that is part of the Hong Kong experience!',\n",
              " \"I came for the French Toast and got exactly what I wanted! If anyone asks me what my favorite food in HK was I'm going to say the French toast. It's so simple yet so good. The toast they use here is super thick and cooked perfectly. It's not soggy at all. It's super fast paced here and you can tell it seems to be a local spot! I'd try to bring someone who knows Cantonese here because it will be a big help. Service is super fast, and food is cheap! It's def a HK staple place to check out.\",\n",
              " \"ADC is now a mainstream tourist attraction. They are known to serve HK cafe type of food. Definitely at least go here once to get the full Hong Kong food experience. The line here is usually half a block. Don't worry, they move pretty fast with their efficiency. There's a guy that goes up and down the line and takes down the number of people in your party. It seems like the bigger the party, the quicker it is (complete opposite). If you're coming here with a small party, be prepare to sit in tight knit tables with strangers (this is how the line moves fast). ADC is CASH ONLY and they ONLY speak Chinese and have Chinese ONLY menus. If you don't read Chinese, I would suggest you show pictures on yelp and tell them. I strongly suggest first timers to order the breakfast combo (~48HKD). It comes with HK's popular cafe dishes: ham and macaroni, toast and egg, coffee/hk milk tea. The waiter will ask how you want your eggs and toast, make sure you tell or point to butter toast with scramble egg!!!! This is the must try dish and you have to order it here!!! The macaroni and ham was mediocre, and the hk style milk tea was just okay. Dessert has to be ordered last or after you finish your meal (due to lack of space on the table). You pay at the front of the restaurant when you are finish with you meal. Please note that ADC is crazy busy all the time, so the waiters aren't the nicest people due to speed. They tend to take no bs, and expects you to know exactly what you're ordering.\"]"
            ]
          },
          "metadata": {},
          "execution_count": 42
        }
      ]
    },
    {
      "cell_type": "code",
      "source": [
        "#Step 4 - Load reviews into dataframe and score\n",
        "df = pd.DataFrame(np.array(reviews), columns=['reviews'])"
      ],
      "metadata": {
        "id": "izMzSLIMD9ve"
      },
      "execution_count": 45,
      "outputs": []
    },
    {
      "cell_type": "code",
      "source": [
        "df.head"
      ],
      "metadata": {
        "colab": {
          "base_uri": "https://localhost:8080/"
        },
        "id": "mi9_5HJ0EUJ5",
        "outputId": "6836295e-eb34-4ee6-d41b-ce104e877b42"
      },
      "execution_count": 47,
      "outputs": [
        {
          "output_type": "execute_result",
          "data": {
            "text/plain": [
              "<bound method NDFrame.head of                                              reviews\n",
              "0  Amazing local food and very quick service!Prob...\n",
              "1  On food alone, this place is great. Having bee...\n",
              "2  This is a long overdue review when I visited b...\n",
              "3  Please don't be alarmed if you're rushed to or...\n",
              "4  This is a very busy restaurant that you'd hone...\n",
              "5  This is undeniably the absolute BEST eggs I ha...\n",
              "6  I came here because of the hype if I'm being h...\n",
              "7  Came here on a Sunday morning and waited aroun...\n",
              "8  I came for the French Toast and got exactly wh...\n",
              "9  ADC is now a mainstream tourist attraction. Th...>"
            ]
          },
          "metadata": {},
          "execution_count": 47
        }
      ]
    },
    {
      "cell_type": "code",
      "source": [
        "reviews"
      ],
      "metadata": {
        "colab": {
          "base_uri": "https://localhost:8080/"
        },
        "id": "MvrZZTVBEZt4",
        "outputId": "e5edba34-8bad-4836-9dd7-a900e36cd2f5"
      },
      "execution_count": 48,
      "outputs": [
        {
          "output_type": "execute_result",
          "data": {
            "text/plain": [
              "['Amazing local food and very quick service!Probably the best breakfast deal for good food in town',\n",
              " \"On food alone, this place is great. Having been here for many years, they really know what they are doing when it comes to food. I would personally recommend the egg sandwiches, since that's what they are really known for. However, a lot of people also like coming here for the boiled milk, among many other items. Overall, I don't think you can go wrong here for any menu item.The big problem here is the service. I wouldn't say it's that bad, in the sense that you know what you are getting when you come here: curt responses and an expectation that you will not wiffle waffle when it comes to placing your order. They are in a hurry here and rely on turnover to make money. So, prepare for that.The other issue is that this place is constantly closed. Due to COVID paranoia this place frequently just shuts down for days on end for no seeming reason. The alleged reason is to 'protect staff', but from a consumer standpoint this is super inconvenient.\",\n",
              " \"This is a long overdue review when I visited back in Oct '19. All of my friends who have visited Hong Kong recommended me this place and I really did not understood the hype until I tried it myself. I came with my family, a party of 4, and got seated after waiting in line for about 10 minutes, which is fairly quick. I ordered the breakfast set that comes with two pieces of buttered french toast, eggs (I ordered mine scrambled), macaroni soup and an iced milk tea. We also ordered a cold milk custard to share.The macaroni soup with ham was just okay. It was a simple noodle soup dish I grew up eating during my childhood so I did not expect anything more of it. The toast and eggs was what everyone raved for and I was pretty impressed! The eggs were buttery and fluffy and topped on top of my buttery toast gave me a mouth orgasm. I also came back by myself a second time when I came back from Singapore.\",\n",
              " \"Please don't be alarmed if you're rushed to order, rushed to eat, rushed to pay and even if it appears the staff is shouting at everyone. That's the spirit here. One of the best HK style breakfast cafes you can visit while in HK, they serve up practically anything you can think of for your traditional HK breakfast from HK milk tea to scramble egg sandwiches, pineapple buns and everyone's favorite, macaroni soup. Menu is limited in English, best if you come with someone who can speak some Cantonese or just show photos from your phone through handy-dandy Yelp or OpenRice =)The pace is very fast, you'll always see a line but it moves extremely quick because when in Hong Kong, communal style tables is key. You will more than likely share a table with strangers unless you have a huge party, but it's okay because you're here for the food anyhow. Expect super efficiency and a quick meal. This is not a place to take your time. Expect great food, not great service.\",\n",
              " \"This is a very busy restaurant that you'd honestly expect for a quick meal and then go, and also expect to be sharing tables with other people as well. We came around mid 3pm on a weekday, and even then, the restaurant is consistently very busy. They are most famous for the egg sandwiches and the milk puddings. Make sure to ask for an English menu if you can't Chinese as you come in.The server will usually expect you to know what you want right away as most people just come in to tell the server what they want.Their menu offers a few selection of food, but mostly differently sandwiches and their milk pudding options. Food comes very fast, and you won't regret ordering. The egg sandwich was amazingly good; the egg was scrambled but had that runny texture, plus it was very creamy. The original milk pudding (best hot), was so soft and you can really taste the milk behind it. Was super full after having both dishes haha.A lot of people complain about the service, however the server was quite nice to me. After eating, you tell your server you want the bill and pay at the front. Definitely worth visiting at least once!\",\n",
              " \"This is undeniably the absolute BEST eggs I have ever had. It is next level soft, creamy, rich, and decadent! I had no idea you can make eggs this delicious. The atmosphere itself is also an experience. It's a no BS allowed kind of restaurant that prizes efficiency. This is probably necessary as the lines are insanely long, even at 8AM!\",\n",
              " 'I came here because of the hype if I\\'m being honest, but it was also a spot that screamed \"A MUST GO IN HONG\"....so of course being a typical tourist, I had to try it out.It\\'s pretty fast pace and there\\'s no room for hesitation. There is limited English on the menu, so the easiest for me to order was to show the waiter what I wanted! I got:MACARONI AND HAM SOUP- This is their most popular item on the menu. It\\'s really nothing that screams wow, but it\\'s a great dish if you want something soupy and warm. It\\'s also a good palette cleanser for the other dishes. One of my favorites was the HK STYLE FRENCH TOAST- Love the subtle peanut butter in the middle (that\\'s what makes it HK style). I knew I had to get an egg dish as well, so I got the SCRAMBLED EGGS WITH CORNED BEEF SANDWICH- The corned beef balanced so well with the eggs, which were super fluffy btw. I would gladly order all these three together when I visit again!You cannot go to a cafe in Hong Kong without ordering MILK TEA, so make sure to do that + come prepared knowing what to order so you don\\'t encounter any \"rudeness\" from the waiters! I left with no complaints!',\n",
              " 'Came here on a Sunday morning and waited around 5 mins. Has the usual breakfast with ham macaroni and scrambled eggs with toast. I even had room for steamed milk. It usually has long queue from mainlanders but less due to current situation in HK.Glad I came and got my steamed milk fix!!I had to share the table with other strangers but that is part of the Hong Kong experience!',\n",
              " \"I came for the French Toast and got exactly what I wanted! If anyone asks me what my favorite food in HK was I'm going to say the French toast. It's so simple yet so good. The toast they use here is super thick and cooked perfectly. It's not soggy at all. It's super fast paced here and you can tell it seems to be a local spot! I'd try to bring someone who knows Cantonese here because it will be a big help. Service is super fast, and food is cheap! It's def a HK staple place to check out.\",\n",
              " \"ADC is now a mainstream tourist attraction. They are known to serve HK cafe type of food. Definitely at least go here once to get the full Hong Kong food experience. The line here is usually half a block. Don't worry, they move pretty fast with their efficiency. There's a guy that goes up and down the line and takes down the number of people in your party. It seems like the bigger the party, the quicker it is (complete opposite). If you're coming here with a small party, be prepare to sit in tight knit tables with strangers (this is how the line moves fast). ADC is CASH ONLY and they ONLY speak Chinese and have Chinese ONLY menus. If you don't read Chinese, I would suggest you show pictures on yelp and tell them. I strongly suggest first timers to order the breakfast combo (~48HKD). It comes with HK's popular cafe dishes: ham and macaroni, toast and egg, coffee/hk milk tea. The waiter will ask how you want your eggs and toast, make sure you tell or point to butter toast with scramble egg!!!! This is the must try dish and you have to order it here!!! The macaroni and ham was mediocre, and the hk style milk tea was just okay. Dessert has to be ordered last or after you finish your meal (due to lack of space on the table). You pay at the front of the restaurant when you are finish with you meal. Please note that ADC is crazy busy all the time, so the waiters aren't the nicest people due to speed. They tend to take no bs, and expects you to know exactly what you're ordering.\"]"
            ]
          },
          "metadata": {},
          "execution_count": 48
        }
      ]
    },
    {
      "cell_type": "code",
      "source": [
        "def sentiment_score(review):\n",
        "  tokens = tokenizer.encode(review, return_tensors='pt')\n",
        "  result = model(tokens)\n",
        "  return int(torch.argmax(result.logits))+1"
      ],
      "metadata": {
        "id": "pCA25UmPH04s"
      },
      "execution_count": 49,
      "outputs": []
    },
    {
      "cell_type": "code",
      "source": [
        "sentiment_score(df['reviews'].iloc[0])"
      ],
      "metadata": {
        "colab": {
          "base_uri": "https://localhost:8080/"
        },
        "id": "M5UrSFoWIbD5",
        "outputId": "18f0567c-78fb-4c48-d467-ee608d2449ea"
      },
      "execution_count": 61,
      "outputs": [
        {
          "output_type": "execute_result",
          "data": {
            "text/plain": [
              "5"
            ]
          },
          "metadata": {},
          "execution_count": 61
        }
      ]
    },
    {
      "cell_type": "code",
      "source": [
        "df['sentiment']=df['reviews'].apply(lambda x: sentiment_score(x[:512])) #grab first 512 tokens for each review"
      ],
      "metadata": {
        "id": "nYVYBHMdI49t"
      },
      "execution_count": 66,
      "outputs": []
    },
    {
      "cell_type": "code",
      "source": [
        "df"
      ],
      "metadata": {
        "colab": {
          "base_uri": "https://localhost:8080/",
          "height": 363
        },
        "id": "wA88kYPMInfK",
        "outputId": "1802e9e0-81ce-4a7a-f24a-ce813adb6f92"
      },
      "execution_count": 67,
      "outputs": [
        {
          "output_type": "execute_result",
          "data": {
            "text/html": [
              "\n",
              "  <div id=\"df-3c94997c-00e6-4190-8c1c-74571a14a51c\">\n",
              "    <div class=\"colab-df-container\">\n",
              "      <div>\n",
              "<style scoped>\n",
              "    .dataframe tbody tr th:only-of-type {\n",
              "        vertical-align: middle;\n",
              "    }\n",
              "\n",
              "    .dataframe tbody tr th {\n",
              "        vertical-align: top;\n",
              "    }\n",
              "\n",
              "    .dataframe thead th {\n",
              "        text-align: right;\n",
              "    }\n",
              "</style>\n",
              "<table border=\"1\" class=\"dataframe\">\n",
              "  <thead>\n",
              "    <tr style=\"text-align: right;\">\n",
              "      <th></th>\n",
              "      <th>reviews</th>\n",
              "      <th>sentiment</th>\n",
              "    </tr>\n",
              "  </thead>\n",
              "  <tbody>\n",
              "    <tr>\n",
              "      <th>0</th>\n",
              "      <td>Amazing local food and very quick service!Prob...</td>\n",
              "      <td>5</td>\n",
              "    </tr>\n",
              "    <tr>\n",
              "      <th>1</th>\n",
              "      <td>On food alone, this place is great. Having bee...</td>\n",
              "      <td>3</td>\n",
              "    </tr>\n",
              "    <tr>\n",
              "      <th>2</th>\n",
              "      <td>This is a long overdue review when I visited b...</td>\n",
              "      <td>5</td>\n",
              "    </tr>\n",
              "    <tr>\n",
              "      <th>3</th>\n",
              "      <td>Please don't be alarmed if you're rushed to or...</td>\n",
              "      <td>5</td>\n",
              "    </tr>\n",
              "    <tr>\n",
              "      <th>4</th>\n",
              "      <td>This is a very busy restaurant that you'd hone...</td>\n",
              "      <td>5</td>\n",
              "    </tr>\n",
              "    <tr>\n",
              "      <th>5</th>\n",
              "      <td>This is undeniably the absolute BEST eggs I ha...</td>\n",
              "      <td>5</td>\n",
              "    </tr>\n",
              "    <tr>\n",
              "      <th>6</th>\n",
              "      <td>I came here because of the hype if I'm being h...</td>\n",
              "      <td>4</td>\n",
              "    </tr>\n",
              "    <tr>\n",
              "      <th>7</th>\n",
              "      <td>Came here on a Sunday morning and waited aroun...</td>\n",
              "      <td>5</td>\n",
              "    </tr>\n",
              "    <tr>\n",
              "      <th>8</th>\n",
              "      <td>I came for the French Toast and got exactly wh...</td>\n",
              "      <td>5</td>\n",
              "    </tr>\n",
              "    <tr>\n",
              "      <th>9</th>\n",
              "      <td>ADC is now a mainstream tourist attraction. Th...</td>\n",
              "      <td>4</td>\n",
              "    </tr>\n",
              "  </tbody>\n",
              "</table>\n",
              "</div>\n",
              "      <button class=\"colab-df-convert\" onclick=\"convertToInteractive('df-3c94997c-00e6-4190-8c1c-74571a14a51c')\"\n",
              "              title=\"Convert this dataframe to an interactive table.\"\n",
              "              style=\"display:none;\">\n",
              "        \n",
              "  <svg xmlns=\"http://www.w3.org/2000/svg\" height=\"24px\"viewBox=\"0 0 24 24\"\n",
              "       width=\"24px\">\n",
              "    <path d=\"M0 0h24v24H0V0z\" fill=\"none\"/>\n",
              "    <path d=\"M18.56 5.44l.94 2.06.94-2.06 2.06-.94-2.06-.94-.94-2.06-.94 2.06-2.06.94zm-11 1L8.5 8.5l.94-2.06 2.06-.94-2.06-.94L8.5 2.5l-.94 2.06-2.06.94zm10 10l.94 2.06.94-2.06 2.06-.94-2.06-.94-.94-2.06-.94 2.06-2.06.94z\"/><path d=\"M17.41 7.96l-1.37-1.37c-.4-.4-.92-.59-1.43-.59-.52 0-1.04.2-1.43.59L10.3 9.45l-7.72 7.72c-.78.78-.78 2.05 0 2.83L4 21.41c.39.39.9.59 1.41.59.51 0 1.02-.2 1.41-.59l7.78-7.78 2.81-2.81c.8-.78.8-2.07 0-2.86zM5.41 20L4 18.59l7.72-7.72 1.47 1.35L5.41 20z\"/>\n",
              "  </svg>\n",
              "      </button>\n",
              "      \n",
              "  <style>\n",
              "    .colab-df-container {\n",
              "      display:flex;\n",
              "      flex-wrap:wrap;\n",
              "      gap: 12px;\n",
              "    }\n",
              "\n",
              "    .colab-df-convert {\n",
              "      background-color: #E8F0FE;\n",
              "      border: none;\n",
              "      border-radius: 50%;\n",
              "      cursor: pointer;\n",
              "      display: none;\n",
              "      fill: #1967D2;\n",
              "      height: 32px;\n",
              "      padding: 0 0 0 0;\n",
              "      width: 32px;\n",
              "    }\n",
              "\n",
              "    .colab-df-convert:hover {\n",
              "      background-color: #E2EBFA;\n",
              "      box-shadow: 0px 1px 2px rgba(60, 64, 67, 0.3), 0px 1px 3px 1px rgba(60, 64, 67, 0.15);\n",
              "      fill: #174EA6;\n",
              "    }\n",
              "\n",
              "    [theme=dark] .colab-df-convert {\n",
              "      background-color: #3B4455;\n",
              "      fill: #D2E3FC;\n",
              "    }\n",
              "\n",
              "    [theme=dark] .colab-df-convert:hover {\n",
              "      background-color: #434B5C;\n",
              "      box-shadow: 0px 1px 3px 1px rgba(0, 0, 0, 0.15);\n",
              "      filter: drop-shadow(0px 1px 2px rgba(0, 0, 0, 0.3));\n",
              "      fill: #FFFFFF;\n",
              "    }\n",
              "  </style>\n",
              "\n",
              "      <script>\n",
              "        const buttonEl =\n",
              "          document.querySelector('#df-3c94997c-00e6-4190-8c1c-74571a14a51c button.colab-df-convert');\n",
              "        buttonEl.style.display =\n",
              "          google.colab.kernel.accessAllowed ? 'block' : 'none';\n",
              "\n",
              "        async function convertToInteractive(key) {\n",
              "          const element = document.querySelector('#df-3c94997c-00e6-4190-8c1c-74571a14a51c');\n",
              "          const dataTable =\n",
              "            await google.colab.kernel.invokeFunction('convertToInteractive',\n",
              "                                                     [key], {});\n",
              "          if (!dataTable) return;\n",
              "\n",
              "          const docLinkHtml = 'Like what you see? Visit the ' +\n",
              "            '<a target=\"_blank\" href=https://colab.research.google.com/notebooks/data_table.ipynb>data table notebook</a>'\n",
              "            + ' to learn more about interactive tables.';\n",
              "          element.innerHTML = '';\n",
              "          dataTable['output_type'] = 'display_data';\n",
              "          await google.colab.output.renderOutput(dataTable, element);\n",
              "          const docLink = document.createElement('div');\n",
              "          docLink.innerHTML = docLinkHtml;\n",
              "          element.appendChild(docLink);\n",
              "        }\n",
              "      </script>\n",
              "    </div>\n",
              "  </div>\n",
              "  "
            ],
            "text/plain": [
              "                                             reviews  sentiment\n",
              "0  Amazing local food and very quick service!Prob...          5\n",
              "1  On food alone, this place is great. Having bee...          3\n",
              "2  This is a long overdue review when I visited b...          5\n",
              "3  Please don't be alarmed if you're rushed to or...          5\n",
              "4  This is a very busy restaurant that you'd hone...          5\n",
              "5  This is undeniably the absolute BEST eggs I ha...          5\n",
              "6  I came here because of the hype if I'm being h...          4\n",
              "7  Came here on a Sunday morning and waited aroun...          5\n",
              "8  I came for the French Toast and got exactly wh...          5\n",
              "9  ADC is now a mainstream tourist attraction. Th...          4"
            ]
          },
          "metadata": {},
          "execution_count": 67
        }
      ]
    }
  ]
}